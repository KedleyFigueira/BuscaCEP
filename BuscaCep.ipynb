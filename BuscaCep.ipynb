{
  "nbformat": 4,
  "nbformat_minor": 0,
  "metadata": {
    "colab": {
      "name": "BuscaCep.ipynb",
      "provenance": [],
      "authorship_tag": "ABX9TyPuJzNbT9tFs0FI9vYKRkBV",
      "include_colab_link": true
    },
    "kernelspec": {
      "name": "python3",
      "display_name": "Python 3"
    },
    "language_info": {
      "name": "python"
    }
  },
  "cells": [
    {
      "cell_type": "markdown",
      "metadata": {
        "id": "view-in-github",
        "colab_type": "text"
      },
      "source": [
        "<a href=\"https://colab.research.google.com/github/KedleyFigueira/BuscaCEP/blob/main/BuscaCep.ipynb\" target=\"_parent\"><img src=\"https://colab.research.google.com/assets/colab-badge.svg\" alt=\"Open In Colab\"/></a>"
      ]
    },
    {
      "cell_type": "code",
      "execution_count": null,
      "metadata": {
        "id": "Jl4QK2cy4kYw"
      },
      "outputs": [],
      "source": [
        "pip install requests\n"
      ]
    },
    {
      "cell_type": "code",
      "source": [
        "cep1 = input()\n",
        "import requests\n",
        "cep = cep1\n",
        "cep = cep.replace(\"-\", \"\").replace(\".\", \"\").replace(\" \", \"\")\n",
        "\n",
        "if len(cep) == 8:\n",
        "  link = f'https://viacep.com.br/ws/{cep}/json/'\n",
        "  requisicao = requests.get(link)\n",
        "  print(requisicao)\n",
        "  dic_requisicao = requisicao.json()\n",
        "  uf = dic_requisicao['uf']\n",
        "  cidade = dic_requisicao['localidade']\n",
        "  bairro = dic_requisicao['bairro']\n",
        "  print(dic_requisicao)\n",
        "else:\n",
        "  print(\"CEP Inválido\")\n",
        "\n"
      ],
      "metadata": {
        "colab": {
          "base_uri": "https://localhost:8080/"
        },
        "id": "6fVr_UgZ4ot0",
        "outputId": "eefc0a90-b8ba-4447-e400-1be01523a7f7"
      },
      "execution_count": 40,
      "outputs": [
        {
          "output_type": "stream",
          "name": "stdout",
          "text": [
            "13101160\n",
            "<Response [200]>\n",
            "{'cep': '13101-160', 'logradouro': \"Rua L'Osservatore Romano\", 'complemento': '', 'bairro': 'Jardim Carlos Lourenço', 'localidade': 'Campinas', 'uf': 'SP', 'ibge': '3509502', 'gia': '2446', 'ddd': '19', 'siafi': '6291'}\n"
          ]
        }
      ]
    },
    {
      "cell_type": "code",
      "source": [],
      "metadata": {
        "id": "nxPWWiGe5dC_"
      },
      "execution_count": null,
      "outputs": []
    }
  ]
}